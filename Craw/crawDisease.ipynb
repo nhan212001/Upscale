{
 "cells": [
  {
   "cell_type": "code",
   "execution_count": 3,
   "metadata": {},
   "outputs": [
    {
     "name": "stderr",
     "output_type": "stream",
     "text": [
      "C:\\Users\\Nhan\\AppData\\Local\\Temp\\ipykernel_3444\\2738050965.py:5: DeprecationWarning: executable_path has been deprecated, please pass in a Service object\n",
      "  wd = webdriver.Chrome(PATH)\n"
     ]
    }
   ],
   "source": [
    "from selenium import webdriver\n",
    "from selenium.webdriver.common.by import By\n",
    "\n",
    "PATH = \"C:\\PBL\\Craw\\chromedriver.exe\"\n",
    "wd = webdriver.Chrome(PATH)\n",
    "url = \"https://plantix.net/vi/library/plant-diseases/100291/gray-leaf-spot/\"\n",
    "wd.get(url)"
   ]
  },
  {
   "cell_type": "code",
   "execution_count": 20,
   "metadata": {},
   "outputs": [
    {
     "data": {
      "text/plain": [
       "{'symptom': 'Triệu chứng\\nCác đốm màu xám trên lá có thể có đường kính lên đến 2cm, dạng vòng tròn và rìa màu tím. Về sau, chúng phát triển thành dạng đồng tâm với tâm màu trắng nhạt ở giữa khu vực bị thương tổn, sau đó rạn vỡ và rơi xuống tạo thành “lỗ thủng trên lá”. Các thương tổn thường xuất hiện ở tán lá trên, bắt đầu từ mép lá, rồi lan dần vào trong. Tán lá trên trong thời kỳ ra hoa có khuynh hướng dễ bị nhiễm bệnh do nhu cầu dinh dưỡng cao vào giai đoạn này. Nếu phát hiện và chữa trị kịp thời bằng cách bón kali, bệnh sẽ không đáng lo ngại, nhưng có thể dẫn rụng lá sớm diện rộng và thiệt hại thu hoạch nếu không được xử lý.',\n",
       " 'recommend': '',\n",
       " 'reason': '',\n",
       " 'prevent': ''}"
      ]
     },
     "execution_count": 20,
     "metadata": {},
     "output_type": "execute_result"
    }
   ],
   "source": [
    "#find by class name card collapsible symptoms\n",
    "data = {\n",
    "    \"symptom\": \"\",\n",
    "    \"recommend\": \"\",\n",
    "    \"reason\": \"\",\n",
    "    \"prevent\": \"\",\n",
    "}\n",
    "symptoms = wd.find_elements(By.CLASS_NAME,\"card.collapsible.symptoms\")\n",
    "for symptom in symptoms:\n",
    "    data[\"symptom\"] += symptom.text\n",
    "data"
   ]
  },
  {
   "cell_type": "code",
   "execution_count": 21,
   "metadata": {},
   "outputs": [
    {
     "data": {
      "text/plain": [
       "{'symptom': 'Triệu chứng\\nCác đốm màu xám trên lá có thể có đường kính lên đến 2cm, dạng vòng tròn và rìa màu tím. Về sau, chúng phát triển thành dạng đồng tâm với tâm màu trắng nhạt ở giữa khu vực bị thương tổn, sau đó rạn vỡ và rơi xuống tạo thành “lỗ thủng trên lá”. Các thương tổn thường xuất hiện ở tán lá trên, bắt đầu từ mép lá, rồi lan dần vào trong. Tán lá trên trong thời kỳ ra hoa có khuynh hướng dễ bị nhiễm bệnh do nhu cầu dinh dưỡng cao vào giai đoạn này. Nếu phát hiện và chữa trị kịp thời bằng cách bón kali, bệnh sẽ không đáng lo ngại, nhưng có thể dẫn rụng lá sớm diện rộng và thiệt hại thu hoạch nếu không được xử lý.',\n",
       " 'recommend': 'Kiểm soát hữu cơ\\nNgày nay chưa xác định giải pháp sinh học nào để chống lại bệnh này. Tuân thủ biện pháp phòng ngừa để phòng ngừa cây mắc bệnh.\\nKiểm soát hóa học\\nHãy luôn xem xét đến giải pháp dung hợp giữa các biện pháp phòng ngừa và các biện pháp xử lý sinh học, trong phạm vi có thể áp dụng được. Sử dụng các loại thuốc diệt nấm có thể trị được bệnh này là (pyraclostrobin, pyraclostrobin + metconazole) nhưng không thường được đề xuất dùng để hạn chế bệnh vì không có hiệu quả về mặt kinh tế.',\n",
       " 'reason': '',\n",
       " 'prevent': ''}"
      ]
     },
     "execution_count": 21,
     "metadata": {},
     "output_type": "execute_result"
    }
   ],
   "source": [
    "\n",
    "recommendations = wd.find_elements(By.CLASS_NAME,\"product-recommendations\")\n",
    "for recommendation in recommendations:\n",
    "    data[\"recommend\"] += recommendation.text\n",
    "data"
   ]
  },
  {
   "cell_type": "code",
   "execution_count": 23,
   "metadata": {},
   "outputs": [
    {
     "data": {
      "text/plain": [
       "{'symptom': 'Triệu chứng\\nCác đốm màu xám trên lá có thể có đường kính lên đến 2cm, dạng vòng tròn và rìa màu tím. Về sau, chúng phát triển thành dạng đồng tâm với tâm màu trắng nhạt ở giữa khu vực bị thương tổn, sau đó rạn vỡ và rơi xuống tạo thành “lỗ thủng trên lá”. Các thương tổn thường xuất hiện ở tán lá trên, bắt đầu từ mép lá, rồi lan dần vào trong. Tán lá trên trong thời kỳ ra hoa có khuynh hướng dễ bị nhiễm bệnh do nhu cầu dinh dưỡng cao vào giai đoạn này. Nếu phát hiện và chữa trị kịp thời bằng cách bón kali, bệnh sẽ không đáng lo ngại, nhưng có thể dẫn rụng lá sớm diện rộng và thiệt hại thu hoạch nếu không được xử lý.',\n",
       " 'recommend': 'Kiểm soát hữu cơ\\nNgày nay chưa xác định giải pháp sinh học nào để chống lại bệnh này. Tuân thủ biện pháp phòng ngừa để phòng ngừa cây mắc bệnh.\\nKiểm soát hóa học\\nHãy luôn xem xét đến giải pháp dung hợp giữa các biện pháp phòng ngừa và các biện pháp xử lý sinh học, trong phạm vi có thể áp dụng được. Sử dụng các loại thuốc diệt nấm có thể trị được bệnh này là (pyraclostrobin, pyraclostrobin + metconazole) nhưng không thường được đề xuất dùng để hạn chế bệnh vì không có hiệu quả về mặt kinh tế.',\n",
       " 'reason': 'Nguyên nhân gây bệnh\\nCác triệu chứng và thiệt hại nêu trên xuất phát từ loài nấm có tên khoa học là Stemphylium solani. Sự xuất hiện và quá trình phát triển của bệnh diễn ra thuận lợi trong điều kiện độ ẩm cao, mưa thường xuyên hoặc hạn hán kéo dài. Tình trạng cây bị sốc do áp lực dinh dưỡng và sinh lý cũng là yếu tố quan trọng, đặc biệt là trong suốt thời kỳ ra hoa và tạo quả. Thiếu hụt kali là nhân tố chính, nhưng bệnh có thể gắn liền với tình trạng hạn hán, sự phát triển bộc phát của côn trùng hay sự hiện diện của giun tròn trong đất. Gió cũng giúp phân tán bào tử nấm đến các cây trồng khác. Bệnh phát triển trong điều kiện nhiệt độ tối ưu là khoảng 20 – 30°C. Loài nấm nêu trên có thể tạo thành bệnh phức hợp do nấm thuộc hai chi Alternaria và Cercospora gây ra và có thể được quan sát thấy trên cùng một cánh đồng. Các cây ký chủ thứ sinh của loài nấm này bao gồm: cây bông vải, cà chua, khoai tây, tiêu, cà tím và hành củ.',\n",
       " 'prevent': ''}"
      ]
     },
     "execution_count": 23,
     "metadata": {},
     "output_type": "execute_result"
    }
   ],
   "source": [
    "reasons = wd.find_elements(By.CLASS_NAME,\"card.collapsible.trigger-card\")\n",
    "for reason in reasons:\n",
    "    data[\"reason\"] += reason.text\n",
    "data"
   ]
  },
  {
   "cell_type": "code",
   "execution_count": 25,
   "metadata": {},
   "outputs": [
    {
     "data": {
      "text/plain": [
       "{'symptom': 'Triệu chứng\\nCác đốm màu xám trên lá có thể có đường kính lên đến 2cm, dạng vòng tròn và rìa màu tím. Về sau, chúng phát triển thành dạng đồng tâm với tâm màu trắng nhạt ở giữa khu vực bị thương tổn, sau đó rạn vỡ và rơi xuống tạo thành “lỗ thủng trên lá”. Các thương tổn thường xuất hiện ở tán lá trên, bắt đầu từ mép lá, rồi lan dần vào trong. Tán lá trên trong thời kỳ ra hoa có khuynh hướng dễ bị nhiễm bệnh do nhu cầu dinh dưỡng cao vào giai đoạn này. Nếu phát hiện và chữa trị kịp thời bằng cách bón kali, bệnh sẽ không đáng lo ngại, nhưng có thể dẫn rụng lá sớm diện rộng và thiệt hại thu hoạch nếu không được xử lý.',\n",
       " 'recommend': 'Kiểm soát hữu cơ\\nNgày nay chưa xác định giải pháp sinh học nào để chống lại bệnh này. Tuân thủ biện pháp phòng ngừa để phòng ngừa cây mắc bệnh.\\nKiểm soát hóa học\\nHãy luôn xem xét đến giải pháp dung hợp giữa các biện pháp phòng ngừa và các biện pháp xử lý sinh học, trong phạm vi có thể áp dụng được. Sử dụng các loại thuốc diệt nấm có thể trị được bệnh này là (pyraclostrobin, pyraclostrobin + metconazole) nhưng không thường được đề xuất dùng để hạn chế bệnh vì không có hiệu quả về mặt kinh tế.',\n",
       " 'reason': 'Nguyên nhân gây bệnh\\nCác triệu chứng và thiệt hại nêu trên xuất phát từ loài nấm có tên khoa học là Stemphylium solani. Sự xuất hiện và quá trình phát triển của bệnh diễn ra thuận lợi trong điều kiện độ ẩm cao, mưa thường xuyên hoặc hạn hán kéo dài. Tình trạng cây bị sốc do áp lực dinh dưỡng và sinh lý cũng là yếu tố quan trọng, đặc biệt là trong suốt thời kỳ ra hoa và tạo quả. Thiếu hụt kali là nhân tố chính, nhưng bệnh có thể gắn liền với tình trạng hạn hán, sự phát triển bộc phát của côn trùng hay sự hiện diện của giun tròn trong đất. Gió cũng giúp phân tán bào tử nấm đến các cây trồng khác. Bệnh phát triển trong điều kiện nhiệt độ tối ưu là khoảng 20 – 30°C. Loài nấm nêu trên có thể tạo thành bệnh phức hợp do nấm thuộc hai chi Alternaria và Cercospora gây ra và có thể được quan sát thấy trên cùng một cánh đồng. Các cây ký chủ thứ sinh của loài nấm này bao gồm: cây bông vải, cà chua, khoai tây, tiêu, cà tím và hành củ.',\n",
       " 'prevent': 'Nếu có thể, nên kiểm nghiệm lượng kali trên cánh đồng và, nếu cần, sử dụng thêm loại dưỡng chất này dùng để bón lót.\\nTrồng các giống cây mùa vụ dài ngày có nhu cầu kali thấp.\\nThăm đồng thường xuyên để phát hiệu dấu hiệu bệnh.\\nĐảm bảo cho cây trồng phát triển khỏe mạnh với chế độ phân bón cân đối.\\nSử dụng các phân bón giàu kali để đáp ứng kịp thời nhu cầu của cây (chia ra để bón), đặc biệt là đối với cây trồng trên đất cát.\\nKhi cần thiết, lên kế hoạch bón phân qua lá trong suốt bốn tuần đầu khi cây ra hoa.\\nĐừng bón dư phân kali để xử lý bệnh.\\nTưới nước thường xuyên để tránh cây bị sốc do hạn hán.'}"
      ]
     },
     "execution_count": 25,
     "metadata": {},
     "output_type": "execute_result"
    }
   ],
   "source": [
    "prevents = wd.find_elements(By.CLASS_NAME,\"preventive-measures-list\")\n",
    "for prevent in prevents:\n",
    "    data[\"prevent\"] += prevent.text\n",
    "data"
   ]
  },
  {
   "cell_type": "code",
   "execution_count": 27,
   "metadata": {},
   "outputs": [],
   "source": [
    "with open(\"data.txt\", \"w\", encoding=\"utf-8\") as f:\n",
    "    f.write(data[\"symptom\"])\n",
    "    f.write(\"\\n\")\n",
    "    f.write(data[\"recommend\"])\n",
    "    f.write(\"\\n\")\n",
    "    f.write(data[\"reason\"])\n",
    "    f.write(\"\\n\")\n",
    "    f.write(data[\"prevent\"])\n",
    "    "
   ]
  }
 ],
 "metadata": {
  "kernelspec": {
   "display_name": "Python 3",
   "language": "python",
   "name": "python3"
  },
  "language_info": {
   "codemirror_mode": {
    "name": "ipython",
    "version": 3
   },
   "file_extension": ".py",
   "mimetype": "text/x-python",
   "name": "python",
   "nbconvert_exporter": "python",
   "pygments_lexer": "ipython3",
   "version": "3.10.6"
  },
  "orig_nbformat": 4
 },
 "nbformat": 4,
 "nbformat_minor": 2
}
