{
 "cells": [
  {
   "cell_type": "code",
   "execution_count": 1,
   "metadata": {},
   "outputs": [
    {
     "name": "stderr",
     "output_type": "stream",
     "text": [
      "C:\\Users\\Nhan\\AppData\\Local\\Temp\\ipykernel_1356\\2453947955.py:10: DeprecationWarning: executable_path has been deprecated, please pass in a Service object\n",
      "  wd = webdriver.Chrome(PATH)\n"
     ]
    },
    {
     "name": "stdout",
     "output_type": "stream",
     "text": [
      "FAILED - cannot identify image file <_io.BytesIO object at 0x0000024EB3970A40>\n",
      "FAILED - cannot identify image file <_io.BytesIO object at 0x0000024EB3970A40>\n"
     ]
    }
   ],
   "source": [
    "from selenium import webdriver\n",
    "from selenium.webdriver.common.by import By\n",
    "import requests\n",
    "import io\n",
    "from PIL import Image\n",
    "import time\n",
    "\n",
    "PATH = \"C:\\PBL\\Craw\\chromedriver.exe\"\n",
    "\n",
    "wd = webdriver.Chrome(PATH)\n",
    "\n",
    "def get_images_from_web(wd, max_images):\n",
    "    image_urls = set()\n",
    "    url = \"https://www.istockphoto.com/es/search/2/image?phrase=wild&page=\"\n",
    "    i=1\n",
    "    # wd.get(url)\n",
    "    while len(image_urls) < max_images:\n",
    "        try:\n",
    "            wd.get(url+str(i))\n",
    "        except:\n",
    "            continue\n",
    "        thumbnails = wd.find_elements(By.CLASS_NAME, \"MosaicAsset-module__thumb___klD9E\")\n",
    "        for img in thumbnails:\n",
    "            if img.get_attribute('src') and 'http' in img.get_attribute('src'):\n",
    "                image_urls.add(img.get_attribute('src'))\n",
    "                # print(f\"Found {len(image_urls)}\")\n",
    "        i+=1\n",
    "        # try:\n",
    "        #     button = wd.find_elements(By.CLASS_NAME, \"PaginationRow-module__button___GSUYn\"+\n",
    "        #     \" PaginationRow-module__nextButton___bTZ91\")[0]\n",
    "        #     button.click()\n",
    "        #     time.sleep(delay)\n",
    "        # except:\n",
    "        #     continue\n",
    "\n",
    "    return image_urls\n",
    "\n",
    "def download_image(download_path, url, file_name):\n",
    "\ttry:\n",
    "\t\timage_content = requests.get(url).content\n",
    "\t\timage_file = io.BytesIO(image_content)\n",
    "\t\timage = Image.open(image_file)\n",
    "\t\tfile_path = download_path + file_name\n",
    "\n",
    "\t\twith open(file_path, \"wb\") as f:\n",
    "\t\t\timage.save(f, \"JPEG\")\n",
    "\n",
    "\t\t# print(\"Success\")\n",
    "\texcept Exception as e:\n",
    "\t\tprint('FAILED -', e)\n",
    "\n",
    "urls = get_images_from_web(wd, 5000)\n",
    "i = 0\n",
    "for url in urls:\n",
    "    download_image(\"C:\\PBL\\Craw\\images\\ \" , url,str(i) + \".jpg\")\n",
    "    i+=1\n",
    "wd.quit()"
   ]
  }
 ],
 "metadata": {
  "kernelspec": {
   "display_name": "Python 3.10.6 64-bit",
   "language": "python",
   "name": "python3"
  },
  "language_info": {
   "codemirror_mode": {
    "name": "ipython",
    "version": 3
   },
   "file_extension": ".py",
   "mimetype": "text/x-python",
   "name": "python",
   "nbconvert_exporter": "python",
   "pygments_lexer": "ipython3",
   "version": "3.10.6 (tags/v3.10.6:9c7b4bd, Aug  1 2022, 21:53:49) [MSC v.1932 64 bit (AMD64)]"
  },
  "orig_nbformat": 4,
  "vscode": {
   "interpreter": {
    "hash": "b8aa186b9c0ce159ed5d38054f7625a70abeef2cca86fcc854a5ff3e15e8cfab"
   }
  }
 },
 "nbformat": 4,
 "nbformat_minor": 2
}
