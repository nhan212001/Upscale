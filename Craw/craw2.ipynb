{
 "cells": [
  {
   "cell_type": "code",
   "execution_count": null,
   "metadata": {},
   "outputs": [],
   "source": [
    "from selenium import webdriver\n",
    "\n",
    "PATH = \"C:\\PBL\\Craw\\chromedriver.exe\"\n",
    "wd = webdriver.Chrome(PATH)\n",
    "url = \"https://www.pexels.com/search/animal/\"\n",
    "wd.get(url)"
   ]
  },
  {
   "cell_type": "code",
   "execution_count": null,
   "metadata": {},
   "outputs": [],
   "source": [
    "import time\n",
    "\n",
    "def scroll_down(wd, delay):\n",
    "    script = \"window.scrollTo(window.scrollY, document.body.scrollHeight - 1500);\"\n",
    "    wd.execute_script(script)\n",
    "    time.sleep(delay)"
   ]
  },
  {
   "cell_type": "code",
   "execution_count": null,
   "metadata": {},
   "outputs": [],
   "source": [
    "from selenium.webdriver.common.by import By\n",
    "from selenium.webdriver.support.ui import WebDriverWait\n",
    "\n",
    "def get_images_from_web(wd, delay, max_images):\n",
    "    wait = WebDriverWait(wd, 5)\n",
    "    image_urls = set()\n",
    "    list_element = wd.find_elements(By.TAG_NAME, \"img\")\n",
    "\n",
    "    while len(list_element) < max_images:\n",
    "        scroll_down(wd, delay)\n",
    "        new_list_element = wd.find_elements(By.TAG_NAME, \"img\")\n",
    "        list_element = new_list_element\n",
    "        print(len(list_element))\n",
    "\n",
    "    for img in list_element:\n",
    "        try:\n",
    "            if img.get_attribute('src') and 'http' in img.get_attribute('src'):\n",
    "                image_urls.add(img.get_attribute('src'))\n",
    "            print(len(image_urls))\n",
    "        except:\n",
    "            continue\n",
    "    return image_urls"
   ]
  },
  {
   "cell_type": "code",
   "execution_count": null,
   "metadata": {},
   "outputs": [],
   "source": [
    "import requests\n",
    "import io\n",
    "\n",
    "def download_image(download_path, url, file_name):\n",
    "\ttry:\n",
    "\t\timage_content = requests.get(url).content\n",
    "\t\timage_file = io.BytesIO(image_content)\n",
    "\t\timage = Image.open(image_file)\n",
    "\t\tfile_path = download_path + file_name\n",
    "\n",
    "\t\twith open(file_path, \"wb\") as f:\n",
    "\t\t\timage.save(f, \"JPEG\")\n",
    "\n",
    "\t\t# print(\"Success\")\n",
    "\texcept Exception as e:\n",
    "\t\tprint('FAILED -', e)"
   ]
  },
  {
   "cell_type": "code",
   "execution_count": null,
   "metadata": {},
   "outputs": [],
   "source": [
    "wd = webdriver.Chrome(PATH)\n",
    "url = \"https://www.pexels.com/search/animal/\"\n",
    "wd.get(url)\n",
    "urls = get_images_from_web(wd, 1, 7000)\n",
    "i = 0\n",
    "for url in urls:\n",
    "    if i<=5000:\n",
    "        download_image(\"C:\\PBL\\Craw\\\\train\\ \" , url,str(i) + \".jpg\")\n",
    "    else:\n",
    "        download_image(\"C:\\PBL\\Craw\\\\test\\ \" , url,str(i) + \".jpg\")\n",
    "    i+=1\n",
    "wd.quit()"
   ]
  }
 ],
 "metadata": {
  "kernelspec": {
   "display_name": "Python 3",
   "language": "python",
   "name": "python3"
  },
  "language_info": {
   "name": "python",
   "version": "3.10.6"
  },
  "orig_nbformat": 4,
  "vscode": {
   "interpreter": {
    "hash": "b8aa186b9c0ce159ed5d38054f7625a70abeef2cca86fcc854a5ff3e15e8cfab"
   }
  }
 },
 "nbformat": 4,
 "nbformat_minor": 2
}
